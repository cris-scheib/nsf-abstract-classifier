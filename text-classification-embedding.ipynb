{
 "cells": [
  {
   "cell_type": "code",
   "execution_count": 2,
   "id": "ce4bc48d",
   "metadata": {},
   "outputs": [],
   "source": [
    "#read the data\n",
    "import pandas as pd\n",
    "df = pd.read_csv('abstract_narrations.csv')"
   ]
  },
  {
   "cell_type": "code",
   "execution_count": null,
   "id": "e943e9ed",
   "metadata": {
    "scrolled": true
   },
   "outputs": [],
   "source": [
    "import nltk\n",
    "import random\n",
    "import numpy as np\n",
    "import tensorflow as tf\n",
    "from nltk.corpus import stopwords\n",
    "# nltk.download('stopwords')\n",
    "# nltk.download('punkt')\n",
    "from nltk.tokenize import RegexpTokenizer\n",
    "tokenizer = RegexpTokenizer(r'\\w+')"
   ]
  },
  {
   "cell_type": "code",
   "execution_count": 4,
   "id": "99223155",
   "metadata": {},
   "outputs": [],
   "source": [
    "df['narration'] = df['narration'].str.lower()\n",
    "df['narration'] = df['narration'].str.replace('&lt;br/&gt;', '')\n",
    "df['narration'] = df['narration'].apply(tokenizer.tokenize)"
   ]
  },
  {
   "cell_type": "code",
   "execution_count": 5,
   "id": "bcd3c018",
   "metadata": {},
   "outputs": [
    {
     "data": {
      "text/html": [
       "<div>\n",
       "<style scoped>\n",
       "    .dataframe tbody tr th:only-of-type {\n",
       "        vertical-align: middle;\n",
       "    }\n",
       "\n",
       "    .dataframe tbody tr th {\n",
       "        vertical-align: top;\n",
       "    }\n",
       "\n",
       "    .dataframe thead th {\n",
       "        text-align: right;\n",
       "    }\n",
       "</style>\n",
       "<table border=\"1\" class=\"dataframe\">\n",
       "  <thead>\n",
       "    <tr style=\"text-align: right;\">\n",
       "      <th></th>\n",
       "      <th>title</th>\n",
       "      <th>narration</th>\n",
       "    </tr>\n",
       "  </thead>\n",
       "  <tbody>\n",
       "    <tr>\n",
       "      <th>0</th>\n",
       "      <td>Adaptive dynamic coordination of damping contr...</td>\n",
       "      <td>[in, the, last, decades, global, environmental...</td>\n",
       "    </tr>\n",
       "    <tr>\n",
       "      <th>1</th>\n",
       "      <td>RAPID: On-mask Chemical Modulation of Respirat...</td>\n",
       "      <td>[non, technical, abstract, spread, of, infecti...</td>\n",
       "    </tr>\n",
       "    <tr>\n",
       "      <th>2</th>\n",
       "      <td>Collaborative Research: Biomass burning smoke ...</td>\n",
       "      <td>[microbes, are, found, in, all, environments, ...</td>\n",
       "    </tr>\n",
       "    <tr>\n",
       "      <th>3</th>\n",
       "      <td>SBIR Phase I:  AK-423: A broad-spectrum antivi...</td>\n",
       "      <td>[the, broader, impact, commercial, potential, ...</td>\n",
       "    </tr>\n",
       "    <tr>\n",
       "      <th>4</th>\n",
       "      <td>The Nature of Coupled Heat and Mass Transport ...</td>\n",
       "      <td>[the, goal, of, this, project, is, to, underst...</td>\n",
       "    </tr>\n",
       "  </tbody>\n",
       "</table>\n",
       "</div>"
      ],
      "text/plain": [
       "                                               title  \\\n",
       "0  Adaptive dynamic coordination of damping contr...   \n",
       "1  RAPID: On-mask Chemical Modulation of Respirat...   \n",
       "2  Collaborative Research: Biomass burning smoke ...   \n",
       "3  SBIR Phase I:  AK-423: A broad-spectrum antivi...   \n",
       "4  The Nature of Coupled Heat and Mass Transport ...   \n",
       "\n",
       "                                           narration  \n",
       "0  [in, the, last, decades, global, environmental...  \n",
       "1  [non, technical, abstract, spread, of, infecti...  \n",
       "2  [microbes, are, found, in, all, environments, ...  \n",
       "3  [the, broader, impact, commercial, potential, ...  \n",
       "4  [the, goal, of, this, project, is, to, underst...  "
      ]
     },
     "execution_count": 5,
     "metadata": {},
     "output_type": "execute_result"
    }
   ],
   "source": [
    "df.head()"
   ]
  },
  {
   "cell_type": "code",
   "execution_count": 6,
   "id": "a0c4db6f",
   "metadata": {},
   "outputs": [],
   "source": [
    "all_stopwords = stopwords.words('english')\n",
    "df['narration'] = df['narration'].apply(lambda x: [word for word in x if not word in all_stopwords])"
   ]
  },
  {
   "cell_type": "code",
   "execution_count": 7,
   "id": "c72ba7bb",
   "metadata": {},
   "outputs": [],
   "source": [
    "from sklearn.model_selection import train_test_split\n",
    "train, test = train_test_split(df, test_size=0.2)"
   ]
  },
  {
   "cell_type": "code",
   "execution_count": 8,
   "id": "2ef5768f",
   "metadata": {},
   "outputs": [],
   "source": [
    "def flatten(l):\n",
    "    return [item for sublist in l for item in sublist]"
   ]
  },
  {
   "cell_type": "code",
   "execution_count": 9,
   "id": "7d5aeec2",
   "metadata": {},
   "outputs": [],
   "source": [
    "import collections\n",
    "vocabulary_size = 25000\n",
    "\n",
    "def build_dataset(dataset):\n",
    "    narration = dataset['narration'].tolist()\n",
    "    narration = flatten(narration)\n",
    "\n",
    "    words = [['UNK', -1]]\n",
    "    words.extend(collections.Counter(narration).most_common(vocabulary_size - 1))\n",
    "\n",
    "    # Dicionário\n",
    "    dictionary = dict()\n",
    "    for word, _ in words:\n",
    "        dictionary[word] = len(dictionary)\n",
    "\n",
    "    data = list()\n",
    "    unk_count = 0\n",
    "\n",
    "    for word in narration:\n",
    "        if word in dictionary:\n",
    "            index = dictionary[word]\n",
    "        else:\n",
    "            index = 0  # dictionary['UNK']\n",
    "            unk_count = unk_count + 1\n",
    "        data.append(index)\n",
    "\n",
    "    words[0][1] = unk_count\n",
    "\n",
    "    reverse_dictionary = dict(zip(dictionary.values(), dictionary.keys()))\n",
    "    assert len(dictionary) == vocabulary_size\n",
    "\n",
    "    return data, words, dictionary, reverse_dictionary\n",
    "    \n",
    "def build_dataset_with_existing_dictionary(narration, dictionary):\n",
    "    data = list()\n",
    "    for word in narration:\n",
    "        if word in dictionary:\n",
    "            index = dictionary[word]\n",
    "        else:\n",
    "            index = 0  # 'UNK'\n",
    "        data.append(index)\n",
    "    return data\n"
   ]
  },
  {
   "cell_type": "code",
   "execution_count": 10,
   "id": "2575b6a4",
   "metadata": {},
   "outputs": [],
   "source": [
    "data, words, dictionary, reverse_dictionary = build_dataset(train)\n",
    "test_data = {}\n",
    "\n",
    "for index, row in test.iterrows():\n",
    "    test_data[row['title']] = build_dataset_with_existing_dictionary(row['narration'],dictionary)"
   ]
  },
  {
   "cell_type": "code",
   "execution_count": 11,
   "id": "bdb9ebc5",
   "metadata": {},
   "outputs": [
    {
     "name": "stdout",
     "output_type": "stream",
     "text": [
      "\n",
      "Palavras mais comuns (+UNK) [['UNK', 30107], ('project', 33823), ('research', 29486), ('using', 17009), ('students', 15941), ('data', 15879), ('support', 15560), ('award', 12825), ('broader', 12743), ('impacts', 12682)]\n",
      "\n",
      "Amostra:  Reactions of Arynes and Other Reactive Intermediates [6, 171, 628, 16182, 33, 442, 210, 1499, 0, 9330, 54, 3670, 2743, 16756, 728, 11, 2706, 2082, 4803, 278, 0, 146, 11, 797, 51, 2224, 4803, 14424, 309, 456, 1064, 3103, 463, 8346, 2700, 363, 11, 171, 129, 797, 51, 261, 270, 628, 456, 1064, 64, 846, 171, 240, 10411, 210, 1460, 11, 2082, 0, 129, 1593, 171, 2421, 109, 5281, 179, 101, 352, 706, 464, 378, 24, 71, 129, 2706, 342, 612, 64, 515, 2, 797, 162, 16052, 11331, 495, 312, 5142, 140, 1580, 29, 1070, 48, 706, 2207, 1956, 1174, 5601, 652, 147, 1377, 127, 1012, 261, 211, 24, 95, 52, 4, 2, 1, 165, 564, 2370, 4, 942, 105, 16756, 1764, 16756, 175, 33, 24, 95, 4, 2743, 360, 31, 1036, 557, 55, 33, 0, 24, 95, 0, 9330, 4, 32, 0, 24754, 24755, 1174, 28, 0, 210, 781, 1921, 2421, 6243, 689, 2082, 4803, 464, 652, 809, 80, 1391, 3340, 5653, 250, 1676, 438, 628, 3542, 323, 189, 503, 50, 0, 3227, 0, 0, 215, 26, 9502, 578, 4973, 0, 59, 86, 0, 2461, 24755, 0, 809, 42, 42, 0, 0, 0, 0, 0, 0, 0, 9502, 578, 0, 22467, 3705, 27, 11, 318, 42, 0, 385, 5017, 86, 0, 4803, 2619, 5225, 19348, 0, 129, 11, 2207, 0, 371, 2441, 69, 2706, 801, 0, 24754, 24755, 1174, 1034, 558, 6749, 1194, 652, 2421, 198, 0, 8, 9, 1, 722, 291, 638, 1538, 37, 189, 1116, 628, 27, 10411, 3088, 230, 1064, 388, 1790, 343, 93, 56, 291, 353, 50, 601, 62, 4, 2862, 7, 19, 10, 22, 15, 20, 21, 6, 13, 3, 12, 14, 16, 8, 9, 17, 18]\n"
     ]
    }
   ],
   "source": [
    "sample = next(iter(test_data))\n",
    "print('\\nPalavras mais comuns (+UNK)', words[:10])\n",
    "print('\\nAmostra: ', sample, test_data[sample])"
   ]
  },
  {
   "cell_type": "code",
   "execution_count": 16,
   "id": "978c6191",
   "metadata": {},
   "outputs": [],
   "source": [
    "def define_batchs(data, batch_size, window_size):\n",
    "    index = 0\n",
    "    span = 2 * window_size + 1\n",
    "    batch = np.ndarray(shape=(batch_size,span-1), dtype=np.int32)\n",
    "    labels = np.ndarray(shape=(batch_size, 1), dtype=np.int32)\n",
    "\n",
    "    buffer = collections.deque(maxlen=span)\n",
    "\n",
    "    for _ in range(span):\n",
    "        buffer.append(data[index])\n",
    "        index = (index + 1) % len(data)\n",
    "\n",
    "    num_samples = 2*window_size\n",
    "\n",
    "    for i in range(batch_size // num_samples):\n",
    "        k=0\n",
    "        for j in list(range(window_size))+list(range(window_size+1,2*window_size+1)):\n",
    "            batch[i * num_samples + k] = buffer[window_size]\n",
    "            labels[i * num_samples + k, 0] = buffer[j]\n",
    "            k += 1\n",
    "\n",
    "        buffer.append(data[index])\n",
    "        index = (index + 1) % len(data)\n",
    "\n",
    "    assert batch.shape[0]==batch_size and batch.shape[1]== span-1\n",
    "    return batch, labels"
   ]
  },
  {
   "cell_type": "code",
   "execution_count": 21,
   "id": "09573720",
   "metadata": {},
   "outputs": [],
   "source": [
    "def define_tests_batchs(data, batch_size):\n",
    "    index = 0\n",
    "    batch = np.ndarray(shape=(batch_size,), dtype=np.int32)\n",
    "\n",
    "    for bi in range(batch_size):\n",
    "        batch[bi] = data[index]\n",
    "        index = (index + 1) % len(data)\n",
    "\n",
    "    return batch"
   ]
  },
  {
   "cell_type": "code",
   "execution_count": 18,
   "id": "61fc8537",
   "metadata": {},
   "outputs": [
    {
     "name": "stdout",
     "output_type": "stream",
     "text": [
      "\n",
      "Com window_size = 2:\n",
      "    batch: [['study', 'study', 'study', 'study'], ['study', 'study', 'study', 'study'], ['study', 'study', 'study', 'study'], ['study', 'study', 'study', 'study'], ['interacting', 'interacting', 'interacting', 'interacting'], ['interacting', 'interacting', 'interacting', 'interacting'], ['interacting', 'interacting', 'interacting', 'interacting'], ['interacting', 'interacting', 'interacting', 'interacting']]\n",
      "    labels: ['nontechnical', 'summarythe', 'interacting', 'electrons', 'summarythe', 'study', 'electrons', 'crucial']\n"
     ]
    }
   ],
   "source": [
    "index = 0\n",
    "batch, labels = define_batchs(data, batch_size=8, window_size=2)\n",
    "print('\\nCom window_size = %d:' % (2))\n",
    "print('    batch:', [[reverse_dictionary[bii] for bii in bi] for bi in batch])\n",
    "print('    labels:', [reverse_dictionary[li] for li in labels.reshape(8)])"
   ]
  },
  {
   "cell_type": "code",
   "execution_count": 23,
   "id": "c195d74c",
   "metadata": {},
   "outputs": [
    {
     "name": "stdout",
     "output_type": "stream",
     "text": [
      "\n",
      "Com window_size = 2:\n",
      "    labels: ['support', 'chemical', 'synthesis', 'syn', 'program', 'division', 'chemistry', 'professor']\n"
     ]
    }
   ],
   "source": [
    "index = 0\n",
    "test_batch = define_tests_batchs(test_data[list(test_data.keys())[0]], batch_size=8)\n",
    "print('\\nCom window_size = %d:' % (2))\n",
    "print('    labels:', [reverse_dictionary[li] for li in test_batch.reshape(8)])"
   ]
  },
  {
   "cell_type": "code",
   "execution_count": 26,
   "id": "ad5f1dc5",
   "metadata": {},
   "outputs": [],
   "source": [
    "# setting the hiperparamethers\n",
    "\n",
    "batch_size = 128\n",
    "embedding_size = 128\n",
    "window_size = 4\n",
    "\n",
    "# validation \n",
    "valid_size = 16\n",
    "valid_window = 50\n",
    "valid_examples = np.array(random.sample(range(valid_window), valid_size))\n",
    "valid_examples = np.append(valid_examples,random.sample(range(1000, 1000+valid_window), valid_size),axis=0)\n",
    "\n",
    "num_sampled = 32"
   ]
  },
  {
   "cell_type": "code",
   "execution_count": null,
   "id": "7ce2f896",
   "metadata": {},
   "outputs": [],
   "source": [
    "# setting the placeholders\n",
    "\n",
    "tf.compat.v1.reset_default_graph()\n",
    "train_dataset = tf.compat.v1.placeholder(tf.int32, shape=[batch_size,2*window_size])\n",
    "train_labels = tf.compat.v1.placeholder(tf.int32, shape=[batch_size, 1])\n",
    "valid_dataset = tf.constant(valid_examples, dtype=tf.int32)\n",
    "test_labels = tf.compat.v1.placeholder(tf.int32, shape=[batch_size],name='test_dataset')"
   ]
  },
  {
   "cell_type": "code",
   "execution_count": null,
   "id": "927c14e8",
   "metadata": {},
   "outputs": [],
   "source": [
    "# setting embedding variables\n",
    "embeddings = tf.Variable(tf.random.uniform([vocabulary_size, embedding_size], -1.0, 1.0,dtype=tf.float32))\n",
    "\n",
    "softmax_weights = tf.Variable(tf.random.truncated_normal([vocabulary_size, embedding_size],\n",
    "                     stddev=1.0 / math.sqrt(embedding_size),dtype=tf.float32))\n",
    "\n",
    "softmax_biases = tf.Variable(tf.zeros([vocabulary_size],dtype=tf.float32))"
   ]
  }
 ],
 "metadata": {
  "kernelspec": {
   "display_name": "Python 3 (ipykernel)",
   "language": "python",
   "name": "python3"
  },
  "language_info": {
   "codemirror_mode": {
    "name": "ipython",
    "version": 3
   },
   "file_extension": ".py",
   "mimetype": "text/x-python",
   "name": "python",
   "nbconvert_exporter": "python",
   "pygments_lexer": "ipython3",
   "version": "3.10.6"
  }
 },
 "nbformat": 4,
 "nbformat_minor": 5
}
