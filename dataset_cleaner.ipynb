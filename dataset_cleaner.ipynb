{
 "cells": [
  {
   "cell_type": "code",
   "execution_count": null,
   "id": "885d5507",
   "metadata": {},
   "outputs": [],
   "source": [
    "# Reads the .xml files and create a .csv with only the needed information \n",
    "# Uses the AwardTitle and the AbstractNarration information to create the dataset\n",
    "\n",
    "import os, glob\n",
    "import csv\n",
    "\n",
    "# Get the data from the .xml tags\n",
    "def filterData(data, tag):\n",
    "    startTag = \"<%s>\" % (tag)\n",
    "    endTag = \"</%s>\" % (tag)\n",
    "    start = data.find(startTag) + len(startTag)\n",
    "    end = data.find(endTag)\n",
    "    return data[start:end]\n",
    "\n",
    "#Clean the data removing unnecessary tag\n",
    "def cleanData(data):\n",
    "    startTag = \"<![CDATA[\"\n",
    "    endTag = \"]]>\"\n",
    "    if startTag in data:\n",
    "        data = data[len(startTag):-len(endTag)]\n",
    "    return data\n",
    "\n",
    "csvfile = open('abstract_narrations.csv', 'w')\n",
    "writer = csv.writer(csvfile)\n",
    "writer.writerow(['title', 'narration'])\n",
    "\n",
    "emptyTags = [\"<AwardTitle/>\", \"<AbstractNarration/>\"]\n",
    "\n",
    "for filename in glob.glob('files/*.xml'):\n",
    "    with open(os.path.join(os.getcwd(), filename), 'r', encoding='UTF8') as f: # open in readonly mode\n",
    "        data = f.read()\n",
    "        if all(x not in data for x in emptyTags):\n",
    "            \n",
    "            title = filterData(data,\"AwardTitle\")\n",
    "            title = cleanData(title)\n",
    "            \n",
    "            narration = filterData(data,\"AbstractNarration\")\n",
    "            narration = cleanData(narration)\n",
    "            \n",
    "            writer.writerow([title, narration])\n",
    "csvfile.close()"
   ]
  }
 ],
 "metadata": {
  "kernelspec": {
   "display_name": "Python 3 (ipykernel)",
   "language": "python",
   "name": "python3"
  },
  "language_info": {
   "codemirror_mode": {
    "name": "ipython",
    "version": 3
   },
   "file_extension": ".py",
   "mimetype": "text/x-python",
   "name": "python",
   "nbconvert_exporter": "python",
   "pygments_lexer": "ipython3",
   "version": "3.10.6"
  }
 },
 "nbformat": 4,
 "nbformat_minor": 5
}
