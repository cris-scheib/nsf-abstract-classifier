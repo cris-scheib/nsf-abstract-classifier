{
 "cells": [
  {
   "cell_type": "code",
   "execution_count": 31,
   "id": "efd96b9e",
   "metadata": {},
   "outputs": [],
   "source": [
    "import os, glob\n",
    "import csv"
   ]
  },
  {
   "cell_type": "code",
   "execution_count": 39,
   "id": "cfe4964b",
   "metadata": {},
   "outputs": [],
   "source": [
    "csvf = open('abstract_narrations.csv', 'w')\n",
    "writer = csv.writer(csvf)"
   ]
  },
  {
   "cell_type": "code",
   "execution_count": 40,
   "id": "6ede30fa",
   "metadata": {},
   "outputs": [],
   "source": [
    "startTag = \"<AbstractNarration>\"\n",
    "endTag = \"</AbstractNarration>\"\n",
    "emptyTag = \"<AbstractNarration/>\"\n",
    "\n",
    "for filename in glob.glob('files/*.xml'):\n",
    "    with open(os.path.join(os.getcwd(), filename), 'r', encoding='UTF8') as f: # open in readonly mode\n",
    "        data = f.read()\n",
    "        if emptyTag not in data:\n",
    "            start = data.find(startTag) + len(startTag) + len(\"<![CDATA[\") \n",
    "            end = data.find(endTag) - len(\"]]>\")\n",
    "    \n",
    "            writer.writerow([data[start:end]])\n",
    "        \n",
    "csvf.close()\n"
   ]
  }
 ],
 "metadata": {
  "kernelspec": {
   "display_name": "Python 3 (ipykernel)",
   "language": "python",
   "name": "python3"
  },
  "language_info": {
   "codemirror_mode": {
    "name": "ipython",
    "version": 3
   },
   "file_extension": ".py",
   "mimetype": "text/x-python",
   "name": "python",
   "nbconvert_exporter": "python",
   "pygments_lexer": "ipython3",
   "version": "3.8.10"
  }
 },
 "nbformat": 4,
 "nbformat_minor": 5
}
